{
 "cells": [
  {
   "cell_type": "code",
   "execution_count": 3,
   "metadata": {},
   "outputs": [],
   "source": [
    "class Point:\n",
    "    def __init__(self, x, y) -> None:\n",
    "        self.x = x\n",
    "        self.y = y\n",
    "        \n",
    "    def __eq__(self, value: object) -> bool:\n",
    "        if isinstance(value, Point):\n",
    "            if value.x == self.x and value.y == self.y:\n",
    "                return True\n",
    "        return False\n",
    "    \n",
    "    def __hash__(self) -> int:\n",
    "        return hash((self.x, self.y))\n",
    "    \n",
    "    def __str__(self) -> str:\n",
    "        return f\"({self.x}, {self.y})\"\n",
    "    \n",
    "    def __repr__(self) -> str:\n",
    "        return f\"({self.x}, {self.y})\""
   ]
  },
  {
   "cell_type": "code",
   "execution_count": 32,
   "metadata": {},
   "outputs": [],
   "source": [
    "import random\n",
    "import pickle\n",
    "\n",
    "def generate_points(num_points=100, wide=100, length=100, save=False):\n",
    "    \n",
    "    points = []\n",
    "    for _ in range(num_points):\n",
    "        x = random.uniform(0, wide)\n",
    "        y = random.uniform(0, length)\n",
    "        points.append(Point(x, y))\n",
    "    \n",
    "    if save:\n",
    "        save_path = f\"./data/Exp1/{num_points}points.pkl\"    \n",
    "        with open(save_path, \"wb\") as f:\n",
    "            pickle.dump(points, f)\n",
    "    \n",
    "    return points"
   ]
  },
  {
   "cell_type": "code",
   "execution_count": 33,
   "metadata": {},
   "outputs": [],
   "source": [
    "# points = generate_points(num_points=10, save=True)"
   ]
  },
  {
   "cell_type": "code",
   "execution_count": 34,
   "metadata": {},
   "outputs": [],
   "source": [
    "def get_points(path):\n",
    "    with open(path, \"rb\") as f:\n",
    "        points = pickle.load(f)\n",
    "    return points"
   ]
  },
  {
   "cell_type": "code",
   "execution_count": 35,
   "metadata": {},
   "outputs": [],
   "source": [
    "points = get_points(\"./data/Exp1/100points.pkl\")"
   ]
  },
  {
   "cell_type": "code",
   "execution_count": 36,
   "metadata": {},
   "outputs": [],
   "source": [
    "def cal_cross_product(v1: Point, v2: Point):\n",
    "    \"\"\"计算向量v1和向量v2的叉积，这里的向量用点表示，因为都是2维的\n",
    "\n",
    "    Args:\n",
    "        X (Point): _description_\n",
    "        Y (Point): _description_\n",
    "    \"\"\"\n",
    "    \n",
    "    return v1.x * v2.y - v1.y * v2.x"
   ]
  },
  {
   "cell_type": "code",
   "execution_count": 37,
   "metadata": {},
   "outputs": [],
   "source": [
    "import copy\n",
    "def cal_g(A: Point, B: Point, P: Point):\n",
    "    \"\"\"计算g,g>0则P在AB上面\n",
    "        实际上是向量AB和向量AP的叉积\n",
    "    Args:\n",
    "        A (Point)\n",
    "        B (Point)\n",
    "        P (Point)\n",
    "    \"\"\"\n",
    "    # if A.x >= B.x:\n",
    "    #     C = copy.deepcopy(B)\n",
    "    #     B = copy.deepcopy(A)\n",
    "    #     A = copy.deepcopy(C)\n",
    "    \n",
    "    AB = Point(B.x - A.x, B.y - A.y)\n",
    "    AP = Point(P.x - A.x, P.y - A.y)\n",
    "    \n",
    "    g = cal_cross_product(AB, AP)\n",
    "    return g"
   ]
  },
  {
   "cell_type": "code",
   "execution_count": 38,
   "metadata": {},
   "outputs": [],
   "source": [
    "def in_triangle(A: Point, B: Point, C: Point, P: Point) -> bool:\n",
    "    \"\"\"判断P在不在ABC的三角形内\n",
    "\n",
    "    Args:\n",
    "        A (Point)\n",
    "        B (Point)\n",
    "        C (Point)\n",
    "        P (Point)\n",
    "\n",
    "    Returns:\n",
    "        bool\n",
    "    \"\"\"\n",
    "    \n",
    "    if (cal_g(A, B, P) * cal_g(A, B, C) >= 0\n",
    "        and cal_g(A, C, P) * cal_g(A, C, B) >= 0\n",
    "        and cal_g(B, C, P) * cal_g(B, C, A) >= 0):\n",
    "        return True\n",
    "    else:\n",
    "        return False"
   ]
  },
  {
   "cell_type": "code",
   "execution_count": 39,
   "metadata": {},
   "outputs": [],
   "source": [
    "# points = [\n",
    "#     Point(0, -0.25),\n",
    "#     Point(1, 0),\n",
    "#     Point(0, 1),\n",
    "#     Point(0.25, 0.25),\n",
    "#     Point(-0.5, -1),\n",
    "#     Point(-1, 0.5),\n",
    "# ]"
   ]
  },
  {
   "cell_type": "code",
   "execution_count": 40,
   "metadata": {},
   "outputs": [],
   "source": [
    "from tqdm import tqdm\n",
    "def BruteForceCH(points, logger=None):\n",
    "    in_flag = set()\n",
    "    for A in tqdm(points):\n",
    "        for B in points:\n",
    "            if A == B:\n",
    "                continue\n",
    "            for C in points:\n",
    "                if C == A or C == B:\n",
    "                    continue\n",
    "                for D in points:\n",
    "                    if D == A or D == B or D == C:\n",
    "                        continue\n",
    "                    \n",
    "                    if in_triangle(A, B, C, D):\n",
    "                        in_flag.add(D)\n",
    "                    if in_triangle(A, B, D, C):\n",
    "                        in_flag.add(C)\n",
    "                    if in_triangle(A, C, D, B):\n",
    "                        in_flag.add(B)\n",
    "                    if in_triangle(B, C, D, A):\n",
    "                        in_flag.add(A)\n",
    "                        \n",
    "                        \n",
    "    edge_points = [p for p in points if p not in in_flag]\n",
    "    edge_points.sort(key=lambda p: p.x)\n",
    "    A = edge_points[0]\n",
    "    B = edge_points[-1]\n",
    "    SL = []\n",
    "    SU = []\n",
    "    for P in edge_points[1:-1]:\n",
    "        if cal_g(A, B, P) < 0:\n",
    "            SL.append(P)\n",
    "        if cal_g(A, B, P) > 0:\n",
    "            SU.append(P)\n",
    "    SL.sort(key=lambda p: p.x)\n",
    "    SU.sort(key=lambda p: p.x, reverse=True)\n",
    "    edge_sort = [A] + SL + [B] + SU\n",
    "    \n",
    "    return edge_sort"
   ]
  },
  {
   "cell_type": "code",
   "execution_count": 41,
   "metadata": {},
   "outputs": [
    {
     "name": "stderr",
     "output_type": "stream",
     "text": [
      "  0%|          | 0/100 [00:00<?, ?it/s]"
     ]
    },
    {
     "name": "stderr",
     "output_type": "stream",
     "text": [
      "  0%|          | 0/100 [00:09<?, ?it/s]\n"
     ]
    },
    {
     "ename": "KeyboardInterrupt",
     "evalue": "",
     "output_type": "error",
     "traceback": [
      "\u001b[1;31m---------------------------------------------------------------------------\u001b[0m",
      "\u001b[1;31mKeyboardInterrupt\u001b[0m                         Traceback (most recent call last)",
      "Cell \u001b[1;32mIn[41], line 1\u001b[0m\n\u001b[1;32m----> 1\u001b[0m edge_sort \u001b[38;5;241m=\u001b[39m \u001b[43mBruteForceCH\u001b[49m\u001b[43m(\u001b[49m\u001b[43mpoints\u001b[49m\u001b[43m)\u001b[49m\n",
      "Cell \u001b[1;32mIn[40], line 17\u001b[0m, in \u001b[0;36mBruteForceCH\u001b[1;34m(points, logger)\u001b[0m\n\u001b[0;32m     15\u001b[0m \u001b[38;5;28;01mif\u001b[39;00m in_triangle(A, B, C, D):\n\u001b[0;32m     16\u001b[0m     in_flag\u001b[38;5;241m.\u001b[39madd(D)\n\u001b[1;32m---> 17\u001b[0m \u001b[38;5;28;01mif\u001b[39;00m \u001b[43min_triangle\u001b[49m\u001b[43m(\u001b[49m\u001b[43mA\u001b[49m\u001b[43m,\u001b[49m\u001b[43m \u001b[49m\u001b[43mB\u001b[49m\u001b[43m,\u001b[49m\u001b[43m \u001b[49m\u001b[43mD\u001b[49m\u001b[43m,\u001b[49m\u001b[43m \u001b[49m\u001b[43mC\u001b[49m\u001b[43m)\u001b[49m:\n\u001b[0;32m     18\u001b[0m     in_flag\u001b[38;5;241m.\u001b[39madd(C)\n\u001b[0;32m     19\u001b[0m \u001b[38;5;28;01mif\u001b[39;00m in_triangle(A, C, D, B):\n",
      "Cell \u001b[1;32mIn[38], line 14\u001b[0m, in \u001b[0;36min_triangle\u001b[1;34m(A, B, C, P)\u001b[0m\n\u001b[0;32m      1\u001b[0m \u001b[38;5;28;01mdef\u001b[39;00m \u001b[38;5;21min_triangle\u001b[39m(A: Point, B: Point, C: Point, P: Point) \u001b[38;5;241m-\u001b[39m\u001b[38;5;241m>\u001b[39m \u001b[38;5;28mbool\u001b[39m:\n\u001b[0;32m      2\u001b[0m \u001b[38;5;250m    \u001b[39m\u001b[38;5;124;03m\"\"\"判断P在不在ABC的三角形内\u001b[39;00m\n\u001b[0;32m      3\u001b[0m \n\u001b[0;32m      4\u001b[0m \u001b[38;5;124;03m    Args:\u001b[39;00m\n\u001b[1;32m   (...)\u001b[0m\n\u001b[0;32m     11\u001b[0m \u001b[38;5;124;03m        bool\u001b[39;00m\n\u001b[0;32m     12\u001b[0m \u001b[38;5;124;03m    \"\"\"\u001b[39;00m\n\u001b[1;32m---> 14\u001b[0m     \u001b[38;5;28;01mif\u001b[39;00m (\u001b[43mcal_g\u001b[49m\u001b[43m(\u001b[49m\u001b[43mA\u001b[49m\u001b[43m,\u001b[49m\u001b[43m \u001b[49m\u001b[43mB\u001b[49m\u001b[43m,\u001b[49m\u001b[43m \u001b[49m\u001b[43mP\u001b[49m\u001b[43m)\u001b[49m \u001b[38;5;241m*\u001b[39m cal_g(A, B, C) \u001b[38;5;241m>\u001b[39m\u001b[38;5;241m=\u001b[39m \u001b[38;5;241m0\u001b[39m\n\u001b[0;32m     15\u001b[0m         \u001b[38;5;129;01mand\u001b[39;00m cal_g(A, C, P) \u001b[38;5;241m*\u001b[39m cal_g(A, C, B) \u001b[38;5;241m>\u001b[39m\u001b[38;5;241m=\u001b[39m \u001b[38;5;241m0\u001b[39m\n\u001b[0;32m     16\u001b[0m         \u001b[38;5;129;01mand\u001b[39;00m cal_g(B, C, P) \u001b[38;5;241m*\u001b[39m cal_g(B, C, A) \u001b[38;5;241m>\u001b[39m\u001b[38;5;241m=\u001b[39m \u001b[38;5;241m0\u001b[39m):\n\u001b[0;32m     17\u001b[0m         \u001b[38;5;28;01mreturn\u001b[39;00m \u001b[38;5;28;01mTrue\u001b[39;00m\n\u001b[0;32m     18\u001b[0m     \u001b[38;5;28;01melse\u001b[39;00m:\n",
      "Cell \u001b[1;32mIn[37], line 2\u001b[0m, in \u001b[0;36mcal_g\u001b[1;34m(A, B, P)\u001b[0m\n\u001b[0;32m      1\u001b[0m \u001b[38;5;28;01mimport\u001b[39;00m \u001b[38;5;21;01mcopy\u001b[39;00m\n\u001b[1;32m----> 2\u001b[0m \u001b[38;5;28;01mdef\u001b[39;00m \u001b[38;5;21mcal_g\u001b[39m(A: Point, B: Point, P: Point):\n\u001b[0;32m      3\u001b[0m \u001b[38;5;250m    \u001b[39m\u001b[38;5;124;03m\"\"\"计算g,g>0则P在AB上面\u001b[39;00m\n\u001b[0;32m      4\u001b[0m \u001b[38;5;124;03m        实际上是向量AB和向量AP的叉积\u001b[39;00m\n\u001b[0;32m      5\u001b[0m \u001b[38;5;124;03m    Args:\u001b[39;00m\n\u001b[1;32m   (...)\u001b[0m\n\u001b[0;32m      8\u001b[0m \u001b[38;5;124;03m        P (Point)\u001b[39;00m\n\u001b[0;32m      9\u001b[0m \u001b[38;5;124;03m    \"\"\"\u001b[39;00m\n\u001b[0;32m     10\u001b[0m     \u001b[38;5;66;03m# if A.x >= B.x:\u001b[39;00m\n\u001b[0;32m     11\u001b[0m     \u001b[38;5;66;03m#     C = copy.deepcopy(B)\u001b[39;00m\n\u001b[0;32m     12\u001b[0m     \u001b[38;5;66;03m#     B = copy.deepcopy(A)\u001b[39;00m\n\u001b[0;32m     13\u001b[0m     \u001b[38;5;66;03m#     A = copy.deepcopy(C)\u001b[39;00m\n",
      "\u001b[1;31mKeyboardInterrupt\u001b[0m: "
     ]
    }
   ],
   "source": [
    "edge_sort = BruteForceCH(points)"
   ]
  },
  {
   "cell_type": "code",
   "execution_count": 150,
   "metadata": {},
   "outputs": [
    {
     "data": {
      "image/png": "[encoded data removed]",
      "text/plain": [
       "<Figure size 640x480 with 1 Axes>"
      ]
     },
     "metadata": {},
     "output_type": "display_data"
    }
   ],
   "source": [
    "import matplotlib.pyplot as plt\n",
    "\n",
    "for p in points:\n",
    "    plt.scatter(p.x, p.y, color=\"blue\")\n",
    "for i, p in enumerate(edge_sort):\n",
    "    if (i + 1) >= len(edge_sort):\n",
    "        plt.arrow(p.x, p.y, edge_sort[0].x - p.x, edge_sort[0].y - p.y, color=\"red\")\n",
    "    else:\n",
    "        plt.arrow(p.x, p.y, edge_sort[i+1].x - p.x, edge_sort[i+1].y - p.y, color=\"red\")\n",
    "plt.show()"
   ]
  },
  {
   "cell_type": "code",
   "execution_count": 9,
   "metadata": {},
   "outputs": [
    {
     "name": "stdout",
     "output_type": "stream",
     "text": [
      "2024-04-22_20:24:57\n"
     ]
    }
   ],
   "source": [
    "from datetime import datetime\n",
    "\n",
    "formatted_time = datetime.now().strftime('%Y-%m-%d_%H:%M:%S')\n",
    "print(formatted_time)"
   ]
  },
  {
   "cell_type": "code",
   "execution_count": 10,
   "metadata": {},
   "outputs": [
    {
     "data": {
      "text/plain": [
       "[(97.80199878434698, 4.231224566744096),\n",
       " (97.48324794628694, 28.28243405879496),\n",
       " (71.29050200364485, 97.79939139925055),\n",
       " (0.7619148790308672, 99.44282380811622),\n",
       " (46.362150201168305, 7.789818521947112)]"
      ]
     },
     "execution_count": 10,
     "metadata": {},
     "output_type": "execute_result"
    }
   ],
   "source": [
    "import math\n",
    "from Exp1_Convex import get_points, Point, cal_cross_product\n",
    "\n",
    "def left_turn(p1: Point, p2: Point, p3: Point) -> bool:\n",
    "    v1 = p2 - p1\n",
    "    v2 = p3 - p2\n",
    "    return cal_cross_product(v1, v2) > 0\n",
    "\n",
    "points = get_points(f\"./data/Exp1/10points.pkl\")\n",
    "\n",
    "edge_sort = []\n",
    "    \n",
    "# find p0\n",
    "min_y_ind = 0\n",
    "for ind, point in enumerate(points):\n",
    "    if point.y < points[min_y_ind].y:\n",
    "        min_y_ind = ind\n",
    "edge_sort.append(points[min_y_ind])\n",
    "points = points[:min_y_ind] + points[min_y_ind+1:]\n",
    "\n",
    "#按极角排序\n",
    "def angle(p: Point):\n",
    "    p0 = edge_sort[0]\n",
    "    return math.atan2(\n",
    "        p.y - p0.y,\n",
    "        p.x - p0.x\n",
    "    )\n",
    "sorted_points = sorted(points, key=angle)\n",
    "\n",
    "#挨个考虑\n",
    "edge_sort.append(sorted_points[0])\n",
    "# edge_sort.append(sorted_points[1])\n",
    "for p in sorted_points[1:]:\n",
    "    top_p = edge_sort[-1]\n",
    "    nttop_p = edge_sort[-2]\n",
    "    while (not left_turn(nttop_p, top_p, p)) and len(edge_sort) >= 3:\n",
    "        edge_sort.pop()\n",
    "        top_p = edge_sort[-1]\n",
    "        nttop_p = edge_sort[-2]\n",
    "    edge_sort.append(p)\n",
    "edge_sort\n"
   ]
  },
  {
   "cell_type": "code",
   "execution_count": 7,
   "metadata": {},
   "outputs": [
    {
     "data": {
      "text/plain": [
       "[(97.48324794628694, 28.28243405879496),\n",
       " (71.29050200364485, 97.79939139925055),\n",
       " (44.54548539058947, 89.35817628501619),\n",
       " (41.12351185377169, 74.42123029276107),\n",
       " (0.7619148790308672, 99.44282380811622),\n",
       " (17.06674672691819, 71.90252588923389),\n",
       " (50.93895599919449, 42.33918916251411),\n",
       " (51.57658608557484, 24.418044733383702),\n",
       " (46.362150201168305, 7.789818521947112)]"
      ]
     },
     "execution_count": 7,
     "metadata": {},
     "output_type": "execute_result"
    }
   ],
   "source": [
    "sorted_points"
   ]
  },
  {
   "cell_type": "code",
   "execution_count": 13,
   "metadata": {},
   "outputs": [
    {
     "data": {
      "image/png": "[encoded data removed]",
      "text/plain": [
       "<Figure size 640x480 with 1 Axes>"
      ]
     },
     "metadata": {},
     "output_type": "display_data"
    }
   ],
   "source": [
    "import matplotlib.pyplot as plt\n",
    "\n",
    "plt.scatter(edge_sort[0].x, edge_sort[0].y)\n",
    "plt.text(edge_sort[0].x, edge_sort[0].y, str(0), fontsize=12, ha='right')\n",
    "for i, p in enumerate(sorted_points):\n",
    "    plt.scatter(p.x, p.y)\n",
    "    plt.text(p.x, p.y, str(i+1), fontsize=12, ha='right')\n",
    "plt.show()"
   ]
  },
  {
   "cell_type": "code",
   "execution_count": 1,
   "metadata": {},
   "outputs": [
    {
     "name": "stdout",
     "output_type": "stream",
     "text": [
      "(1, 1)\n"
     ]
    }
   ],
   "source": [
    "from Exp1_Convex import Point\n",
    "a = Point(1, 2)\n",
    "b = Point(2, 3)\n",
    "print(b -  a)"
   ]
  },
  {
   "cell_type": "code",
   "execution_count": 1,
   "metadata": {},
   "outputs": [
    {
     "data": {
      "text/plain": [
       "[(46.362150201168305, 7.789818521947112),\n",
       " (51.57658608557484, 24.418044733383702),\n",
       " (97.80199878434698, 4.231224566744096),\n",
       " (97.48324794628694, 28.28243405879496),\n",
       " (71.29050200364485, 97.79939139925055),\n",
       " (0.7619148790308672, 99.44282380811622),\n",
       " (17.06674672691819, 71.90252588923389)]"
      ]
     },
     "execution_count": 1,
     "metadata": {},
     "output_type": "execute_result"
    }
   ],
   "source": [
    "from Exp1_Convex import get_points, Point, GrahamScan, cal_cross_product, left_turn\n",
    "from typing import List, Optional\n",
    "import math\n",
    "\n",
    "points = get_points(f\"./data/Exp1/10points.pkl\")\n",
    "\n",
    "def conquer(points: List[Point]) -> List[Point]:\n",
    "    # preprocess\n",
    "    if len(points) == 3:\n",
    "        if left_turn(points[0], points[1], points[2]):\n",
    "            return points\n",
    "        else:\n",
    "            return [points[0], points[2], points[1]]\n",
    "    elif len(points) <= 2:\n",
    "        return points\n",
    "    \n",
    "    min_x = float(\"inf\")\n",
    "    max_x = float(\"-inf\")\n",
    "    for p in points:\n",
    "        if p.x > max_x:\n",
    "            max_x = p.x\n",
    "        if p.x < min_x:\n",
    "            min_x = p.x\n",
    "    mid_x = (min_x + max_x) / 2\n",
    "    \n",
    "    QL = []\n",
    "    QR = []\n",
    "    for p in points:\n",
    "        if p.x <= mid_x:\n",
    "            QL.append(p)\n",
    "        else:\n",
    "            QR.append(p)\n",
    "    \n",
    "    QL = conquer(QL)\n",
    "    QR = conquer(QR)\n",
    "    \n",
    "    # 构造三个序列\n",
    "    def get_inside_point(a: Point, b: Point, c: Point):\n",
    "        # 找三角形的一个内点，凸包上连续三点的三角形的内点肯定也在凸包内\n",
    "        core_x = (a.x + b.x + c.x) / 3\n",
    "        core_y = (a.y + b.y + c.y) / 3\n",
    "        return Point(core_x, core_y)\n",
    "    try:\n",
    "        p_inside = get_inside_point(QL[0], QL[1], QL[2]) # 找凸包QL的一个内点\n",
    "    except IndexError:\n",
    "        if len(QL) == 2:\n",
    "            p_inside = Point((QL[0].x + QL[1].x) / 2, (QL[0].y + QL[1].y) / 2)\n",
    "        elif len(QL) == 1:\n",
    "            p_inside = QL[0]\n",
    "    # 在CH(QR)中找与p的极角最大和最小顶点u和v\n",
    "    min_angle = math.pi\n",
    "    max_angle = -math.pi\n",
    "    def cal_angle(p1: Point, p2: Point):\n",
    "        return math.atan2(p2.y - p1.y, p2.x - p1.x)\n",
    "    for ind, p in enumerate(QR):\n",
    "        angle = cal_angle(p_inside, p)\n",
    "        if angle > max_angle:\n",
    "            v_id = ind\n",
    "            max_angle = angle\n",
    "        if angle < min_angle:\n",
    "            u_id = ind\n",
    "            min_angle = angle\n",
    "    \n",
    "    seq_1 = QL #按逆时针方向排列的CH(QL)的所有顶点\n",
    "    \n",
    "    if v_id < u_id: #按逆时针方向排列的CH(QR)从u到v的顶点\n",
    "        seq_2 = (QR + QR)[u_id:v_id+len(QR)+1]\n",
    "    else:\n",
    "        seq_2 = QR[u_id:v_id+1]\n",
    "        \n",
    "    if v_id < u_id: #按顺时针方向排列的CH(QR)从u到v的顶点\n",
    "        seq_3 = list(reversed(QR[v_id+1:u_id]))\n",
    "    else:\n",
    "        seq_3 = list(reversed((QR + QR)[v_id+1:u_id+len(QR)]))\n",
    "    \n",
    "    def _find_min_angle(p1: Optional[Point]=None, p2: Optional[Point]=None, p3: Optional[Point]=None) -> int:\n",
    "        \"\"\"找到与p_inside极角最小的点，返回它的index\n",
    "        \"\"\"\n",
    "        p_list = [p for p in [p1, p2, p3] if p]\n",
    "        min_angle = math.pi\n",
    "        for ind, p in enumerate(p_list):\n",
    "            angle = cal_angle(p_inside, p)\n",
    "            if angle < min_angle:\n",
    "                min_ind = ind\n",
    "                min_angle = angle\n",
    "        for ind, p in enumerate([p1, p2, p3]):\n",
    "            if p_list[min_ind] == p:\n",
    "                return ind+1\n",
    "    \n",
    "    merged_seq = []\n",
    "    while True:\n",
    "        if len(seq_1) == 0 and len(seq_2) == 0 and len(seq_3) == 0:\n",
    "            break\n",
    "        \n",
    "        top_seq_1 = seq_1[0] if len(seq_1) != 0 else None\n",
    "        top_seq_2 = seq_2[0] if len(seq_2) != 0 else None\n",
    "        top_seq_3 = seq_3[0] if len(seq_3) != 0 else None\n",
    "        \n",
    "        min_ind = _find_min_angle(top_seq_1, top_seq_2, top_seq_3)\n",
    "        # seq_name = f\"seq_{min_ind}\"\n",
    "        ind2seq = {\n",
    "            1: seq_1,\n",
    "            2: seq_2,\n",
    "            3: seq_3\n",
    "        }\n",
    "        merged_seq.append(ind2seq[min_ind][0])\n",
    "        ind2seq[min_ind].pop(0)\n",
    "\n",
    "            \n",
    "    \n",
    "    return GrahamScan(merged_seq, have_sorted=True)\n",
    "    \n",
    "conquer(points)\n",
    "        \n",
    "\n",
    "    "
   ]
  },
  {
   "cell_type": "code",
   "execution_count": 14,
   "metadata": {},
   "outputs": [
    {
     "name": "stdout",
     "output_type": "stream",
     "text": [
      "[3, 4, 0, 1]\n",
      "[2]\n"
     ]
    }
   ],
   "source": [
    "QR = [0, 1, 2, 3, 4]\n",
    "u_id = 3\n",
    "v_id = 1\n",
    "\n",
    "if v_id < u_id: #按逆时针方向排列的CH(QR)从u到v的顶点\n",
    "    seq_2 = (QR + QR)[u_id:v_id+len(QR)+1]\n",
    "else:\n",
    "    seq_2 = QR[u_id:v_id+1]\n",
    "if v_id < u_id:\n",
    "    seq_3 = list(reversed(QR[v_id+1:u_id]))\n",
    "else:\n",
    "    seq_3 = list(reversed((QR + QR)[v_id+1:u_id+len(QR)]))\n",
    "\n",
    "print(seq_2)\n",
    "print(seq_3)"
   ]
  },
  {
   "cell_type": "code",
   "execution_count": 24,
   "metadata": {},
   "outputs": [
    {
     "data": {
      "text/plain": [
       "[(0, -2),\n",
       " (2, -1),\n",
       " (7, -2),\n",
       " (9, -1),\n",
       " (5, 1),\n",
       " (10, 3),\n",
       " (6, 3),\n",
       " (8, 5),\n",
       " (2, 2),\n",
       " (0, 3),\n",
       " (-2, 1)]"
      ]
     },
     "execution_count": 24,
     "metadata": {},
     "output_type": "execute_result"
    }
   ],
   "source": [
    "from Exp1_Convex import Point\n",
    "from typing import Optional\n",
    "import math\n",
    "p_inside = Point(0, 0)\n",
    "def cal_angle(p1: Point, p2: Point):\n",
    "    return math.atan2(p2.y - p1.y, p2.x - p1.x)\n",
    "def _find_min_angle(p1: Optional[Point]=None, p2: Optional[Point]=None, p3: Optional[Point]=None) -> int:\n",
    "    \"\"\"找到与p_inside极角最小的点，返回它的index\n",
    "    \"\"\"\n",
    "    p_list = [p for p in [p1, p2, p3] if p]\n",
    "    min_angle = math.pi\n",
    "    for ind, p in enumerate(p_list):\n",
    "        angle = cal_angle(p_inside, p)\n",
    "        if angle < min_angle:\n",
    "            min_ind = ind\n",
    "            min_angle = angle\n",
    "    for ind, p in enumerate([p1, p2, p3]):\n",
    "        if p_list[min_ind] == p:\n",
    "            return ind+1\n",
    "seq_1 = [\n",
    "    Point(0, -2),\n",
    "    Point(2, -1),\n",
    "    Point(2, 2),\n",
    "    Point(0, 3), \n",
    "    Point(-2, 1)\n",
    "]\n",
    "seq_2 = [\n",
    "    Point(7, -2),\n",
    "    Point(9, -1),\n",
    "    Point(10, 3),\n",
    "    Point(8, 5)\n",
    "]\n",
    "seq_3 = [\n",
    "    Point(5, 1),\n",
    "    Point(6, 3)\n",
    "]\n",
    "\n",
    "merged_seq = []\n",
    "while True:\n",
    "    if len(seq_1) == 0 and len(seq_2) == 0 and len(seq_3) == 0:\n",
    "        break\n",
    "    \n",
    "    top_seq_1 = seq_1[0] if len(seq_1) != 0 else None\n",
    "    top_seq_2 = seq_2[0] if len(seq_2) != 0 else None\n",
    "    top_seq_3 = seq_3[0] if len(seq_3) != 0 else None\n",
    "    \n",
    "    min_ind = _find_min_angle(top_seq_1, top_seq_2, top_seq_3)\n",
    "    ind_to_seq_dict = {\n",
    "        1: seq_1, \n",
    "        2: seq_2, \n",
    "        3: seq_3\n",
    "    }\n",
    "    seq_name = f\"seq_{min_ind}\"\n",
    "    merged_seq.append(globals()[seq_name][0])\n",
    "    try:\n",
    "        globals()[seq_name] = globals()[seq_name][1:]\n",
    "    except IndexError:\n",
    "        globals()[seq_name] = []\n",
    "\n",
    "merged_seq"
   ]
  },
  {
   "cell_type": "code",
   "execution_count": 27,
   "metadata": {},
   "outputs": [
    {
     "data": {
      "text/plain": [
       "0.0"
      ]
     },
     "execution_count": 27,
     "metadata": {},
     "output_type": "execute_result"
    }
   ],
   "source": [
    "cal_angle(Point(0, 0), Point(0, 0))"
   ]
  },
  {
   "cell_type": "code",
   "execution_count": null,
   "metadata": {},
   "outputs": [],
   "source": [
    "merged_seq = [Point(46.362150201168305, 7.789818521947112), (41.12351185377169, 74.42123029276107), (44.54548539058947, 89.35817628501619), (0.7619148790308672, 99.44282380811622), (17.06674672691819, 71.90252588923389)]"
   ]
  },
  {
   "cell_type": "code",
   "execution_count": 5,
   "metadata": {},
   "outputs": [
    {
     "data": {
      "image/png": "[encoded data removed]",
      "text/plain": [
       "<Figure size 640x480 with 1 Axes>"
      ]
     },
     "metadata": {},
     "output_type": "display_data"
    }
   ],
   "source": [
    "BF = [\n",
    "    [50, 131748.708],\n",
    "    [100, 2236623.546]\n",
    "]\n",
    "GS = [\n",
    "    [50, 0.288],\n",
    "    [100, 0.485],\n",
    "    [200, 0.968],\n",
    "    [1000, 4.995],\n",
    "    [2000, 9.558],\n",
    "    [5000, 23.889]\n",
    "]\n",
    "DAC = [\n",
    "    [50, 1.770],\n",
    "    [100, 4.270],\n",
    "    [200, 7.119],\n",
    "    [1000, 38.548],\n",
    "    [2000, 79.777],\n",
    "    [5000, 183.333]\n",
    "]\n",
    "import matplotlib.pyplot as plt\n",
    "data = BF\n",
    "plt.plot([d[0] for d in data], [d[1] for d in data])\n",
    "data = GS\n",
    "plt.plot([d[0] for d in data], [d[1] for d in data])\n",
    "data = DAC\n",
    "plt.plot([d[0] for d in data], [d[1] for d in data])\n",
    "plt.show()\n"
   ]
  }
 ],
 "metadata": {
  "kernelspec": {
   "display_name": "drawer",
   "language": "python",
   "name": "python3"
  },
  "language_info": {
   "codemirror_mode": {
    "name": "ipython",
    "version": 3
   },
   "file_extension": ".py",
   "mimetype": "text/x-python",
   "name": "python",
   "nbconvert_exporter": "python",
   "pygments_lexer": "ipython3",
   "version": "3.9.12"
  }
 },
 "nbformat": 4,
 "nbformat_minor": 2
}
