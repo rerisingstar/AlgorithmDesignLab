{
 "cells": [
  {
   "cell_type": "code",
   "execution_count": 75,
   "metadata": {},
   "outputs": [],
   "source": [
    "import math\n",
    "from typing import List, Tuple\n",
    "import numpy as np\n",
    "import matplotlib.pyplot as plt\n",
    "import matplotlib.patches as patches\n",
    "\n",
    "NodeLocation = Tuple[int, int]\n",
    "\n",
    "class Graph:\n",
    "    def __init__(self, \n",
    "        width: int,\n",
    "        height: int,\n",
    "    ):\n",
    "        self.width = width\n",
    "        self.height = height\n",
    "        \n",
    "        self.map = np.full((width, height), 0)\n",
    "        \n",
    "    \n",
    "    def _in_graph(self, node: NodeLocation) -> bool:\n",
    "        x, y = node\n",
    "        if x >= 0 and x < self.width:\n",
    "            if y >= 0 and y < self.height:\n",
    "                return True\n",
    "        return False\n",
    "    \n",
    "    def get_geography(self, location: NodeLocation):\n",
    "        geo_colors = {\n",
    "            1: 'desert',\n",
    "            2: 'stream',\n",
    "            0: 'blank',\n",
    "            3: 'obstacle'\n",
    "        }\n",
    "        return geo_colors[self.map[location[0]-1, location[1]-1]]\n",
    "    \n",
    "    def add_geography(self, \n",
    "        deserts: List[NodeLocation]=None, \n",
    "        streams: List[NodeLocation]=None, \n",
    "        obstacles: List[NodeLocation]=None,\n",
    "    ):\n",
    "        if deserts:\n",
    "            for de in deserts:\n",
    "                self.map[de[0]-1, de[1]-1] = 1\n",
    "        if streams:\n",
    "            for st in streams:\n",
    "                self.map[st[0]-1, st[1]-1] = 2\n",
    "        if obstacles:\n",
    "            for ob in obstacles:\n",
    "                self.map[ob[0]-1, ob[1]-1] = 3\n",
    "    \n",
    "    def neighbors(self, node: NodeLocation) -> List[NodeLocation]:\n",
    "        dirs = [\n",
    "            [1, 0], [0, 1], [-1, 0], [0, -1],\n",
    "            [1, 1], [1, -1], [-1, 1], [-1, -1]\n",
    "        ]\n",
    "        result = []\n",
    "        for dir in dirs:\n",
    "            neighbor = [node[0] + dir[0], node[1] + dir[1]]\n",
    "            if self._in_graph(neighbor):\n",
    "                result.append(neighbor)\n",
    "        return result\n",
    "\n",
    "    def cost(self, current: NodeLocation, next: NodeLocation):\n",
    "        movement = [next[0] - current[0], next[1] - current[1]]\n",
    "        if movement in [[1, 0], [0, 1], [-1, 0], [0, -1]]:\n",
    "            move_cost = 1\n",
    "        elif movement in [[1, 1], [1, -1], [-1, 1], [-1, -1]]:\n",
    "            move_cost = math.sqrt(2)\n",
    "        \n",
    "        if self.map[next[0], next[1]] == 1: # deserts\n",
    "            geo_cost = 4\n",
    "        elif self.map[next[0], next[1]] == 2: # streams\n",
    "            geo_cost = 2\n",
    "        elif self.map[next[0], next[1]] == 3: # obstacle\n",
    "            geo_cost = int('inf')\n",
    "        else:\n",
    "            geo_cost = 0\n",
    "        \n",
    "        return move_cost + geo_cost\n",
    "    \n",
    "    def draw(self):\n",
    "        geo_colors = {\n",
    "            1: 'wheat',\n",
    "            2: 'blue',\n",
    "            0: 'white',\n",
    "            3: 'gray'\n",
    "        }\n",
    "        fig, ax = plt.subplots()\n",
    "        \n",
    "        ax.set_aspect('equal', adjustable='box')\n",
    "        \n",
    "        for row in range(self.width):\n",
    "            for col in range(self.height):\n",
    "                color = geo_colors[self.map[row, col]] \n",
    "                ax.add_patch(patches.Rectangle((row, col), 1, 1, color=color)) \n",
    "        \n",
    "        ax.set_xlim(0, self.width)\n",
    "        ax.set_ylim(self.height, 0)\n",
    "        ax.xaxis.set_ticks_position('top')\n",
    "        \n",
    "        for x in range(1, self.width):\n",
    "            plt.axvline(x=x, linewidth=0.5, color='gray')\n",
    "        for y in range(1, self.height):\n",
    "            plt.axhline(y=y, linewidth=0.5, color='gray')\n",
    "\n",
    "        interval = 5\n",
    "        label_list = list(i+1 for i in range(interval-1, self.width, interval))\n",
    "        xtick_list = [i-0.5 for i in label_list]\n",
    "        ax.set_xticks(xtick_list)\n",
    "        ax.set_xticklabels(label_list)\n",
    "        label_list = list(i+1 for i in range(interval-1, self.height, interval))\n",
    "        ytick_list = [i-0.5 for i in label_list]\n",
    "        ax.set_yticks(ytick_list)\n",
    "        ax.set_yticklabels(label_list)\n",
    "        \n",
    "        plt.show()\n",
    "\n",
    "        "
   ]
  },
  {
   "cell_type": "code",
   "execution_count": 52,
   "metadata": {},
   "outputs": [
    {
     "data": {
      "image/png": "[encoded data removed]",
      "text/plain": [
       "<Figure size 640x480 with 1 Axes>"
      ]
     },
     "metadata": {},
     "output_type": "display_data"
    }
   ],
   "source": [
    "\n",
    "g = Graph(40, 20)\n",
    "g.add_geography(deserts=[[1,5]], streams=[[2,4]], obstacles=[[7,3]])\n",
    "g.draw()"
   ]
  },
  {
   "cell_type": "code",
   "execution_count": 53,
   "metadata": {},
   "outputs": [
    {
     "data": {
      "image/png": "[encoded data removed]",
      "text/plain": [
       "<Figure size 640x480 with 1 Axes>"
      ]
     },
     "metadata": {},
     "output_type": "display_data"
    }
   ],
   "source": [
    "graph = Graph(17, 14)\n",
    "obstacles = [\n",
    "    [7, 6],\n",
    "    [7, 7],\n",
    "    [8, 8],\n",
    "    [8, 9],\n",
    "    [8, 10],\n",
    "    [9, 10],\n",
    "    [9, 11], \n",
    "    [9, 12]\n",
    "]\n",
    "graph.add_geography(obstacles=obstacles)\n",
    "graph.draw()"
   ]
  },
  {
   "cell_type": "code",
   "execution_count": 91,
   "metadata": {},
   "outputs": [],
   "source": [
    "graph = Graph(40, 20)\n",
    "obstacles = [[13, i] for i in list(range(1, 9)) + list(range(13, 21))]\n",
    "obstacles += [[i, 3] for i in list(range(1, 7))+list(range(8,12))]\n",
    "obstacles += [[4, 1], [8, 1], [8, 2], [9, 4], [8, 6], [9, 6]]\n",
    "obstacles += [[i, 7] for i in range(3, 9)] + [[3, 8], [6, 8], [8, 8]]\n",
    "obstacles += [[6, i] for i in range(9, 13)]\n",
    "obstacles += [[8, 10], [8, 11]]\n",
    "obstacles += [[9, i] for i in range(11, 17)] + [[10, 14], [12, 14]]\n",
    "obstacles += [[3, 11], [3, 12], [4, 12], [5, 12]]\n",
    "obstacles += [[i, 16] for i in range(4, 9)] + [[8, 18], [8, 19], [8, 20]]\n",
    "obstacles += [[4, 13], [4, 14], [4, 15], [4, 17], [4, 19], [4, 20]]\n",
    "obstacles += [[25, 16], [25, 17], [26, 16], [26, 17]]\n",
    "obstacles += [[29, 11], [32, 12], [32, 14], [37, 8], [37, 10]]\n",
    "for i in range(20, 23):\n",
    "    for j in range(11, 14):\n",
    "        obstacles.append([i, j])\n",
    "graph.add_geography(obstacles=obstacles)"
   ]
  },
  {
   "cell_type": "code",
   "execution_count": 92,
   "metadata": {},
   "outputs": [],
   "source": [
    "deserts = [[i, 1] for i in range(25, 41)]\n",
    "deserts += [[i, 2] for i in range(26, 41)]\n",
    "deserts += [[i, 3] for i in range(27, 41)]\n",
    "deserts += [[i, 4] for i in range(27, 38)]\n",
    "deserts += [[i, 5] for i in range(27, 37)]\n",
    "deserts += [[i, 6] for i in range(28, 34)]\n",
    "deserts += [[i, 7] for i in range(28, 34)]\n",
    "deserts += [[i, 8] for i in range(30, 34)]\n",
    "graph.add_geography(deserts=deserts)"
   ]
  },
  {
   "cell_type": "code",
   "execution_count": 99,
   "metadata": {},
   "outputs": [
    {
     "data": {
      "image/png": "[encoded data removed]",
      "text/plain": [
       "<Figure size 640x480 with 1 Axes>"
      ]
     },
     "metadata": {},
     "output_type": "display_data"
    }
   ],
   "source": [
    "streams = [[35, 2], [34, 3], [33, 4], [34, 5]]\n",
    "streams += [[34, i] for i in range(6, 11)]\n",
    "streams += [[35, i] for i in range(6, 11)] + [[36, 9], [36, 8]]\n",
    "streams += [[33, i] for i in range(9, 13)] + [[34, 11]]\n",
    "streams += [[36, 11], [37, 11], [35, 12], [36, 12], [34, 13], [35, 13]]\n",
    "streams += [[i, 14] for i in range(33, 36)]\n",
    "streams += [[i, 15] for i in range(33, 36)]\n",
    "streams += [[i, 16] for i in range(32, 35)]\n",
    "streams += [[i, 17] for i in range(32, 35)]\n",
    "streams += [[i, 18] for i in range(31, 34)]\n",
    "streams += [[i, 19] for i in range(30, 33)]\n",
    "streams += [[i, 20] for i in range(29, 32)]\n",
    "graph.add_geography(streams=streams)\n",
    "graph.draw()"
   ]
  },
  {
   "cell_type": "code",
   "execution_count": 82,
   "metadata": {},
   "outputs": [
    {
     "data": {
      "text/plain": [
       "'stream'"
      ]
     },
     "execution_count": 82,
     "metadata": {},
     "output_type": "execute_result"
    }
   ],
   "source": [
    "graph.get_geography([35, 2])"
   ]
  },
  {
   "cell_type": "code",
   "execution_count": 100,
   "metadata": {},
   "outputs": [
    {
     "data": {
      "text/plain": [
       "True"
      ]
     },
     "execution_count": 100,
     "metadata": {},
     "output_type": "execute_result"
    }
   ],
   "source": [
    "a = [1, 1]\n",
    "b = [1, 1]\n",
    "a == b"
   ]
  },
  {
   "cell_type": "code",
   "execution_count": 1,
   "metadata": {},
   "outputs": [
    {
     "ename": "TypeError",
     "evalue": "unhashable type: 'list'",
     "output_type": "error",
     "traceback": [
      "\u001b[0;31m---------------------------------------------------------------------------\u001b[0m",
      "\u001b[0;31mTypeError\u001b[0m                                 Traceback (most recent call last)",
      "Cell \u001b[0;32mIn [1], line 5\u001b[0m\n\u001b[1;32m      3\u001b[0m start \u001b[38;5;241m=\u001b[39m [\u001b[38;5;241m4\u001b[39m,\u001b[38;5;241m9\u001b[39m]\n\u001b[1;32m      4\u001b[0m target \u001b[38;5;241m=\u001b[39m [\u001b[38;5;241m15\u001b[39m, \u001b[38;5;241m10\u001b[39m]\n\u001b[0;32m----> 5\u001b[0m path \u001b[38;5;241m=\u001b[39m \u001b[43mA_Star\u001b[49m\u001b[43m(\u001b[49m\u001b[43mgraph1\u001b[49m\u001b[43m,\u001b[49m\u001b[43m \u001b[49m\u001b[43mstart\u001b[49m\u001b[43m,\u001b[49m\u001b[43m \u001b[49m\u001b[43mtarget\u001b[49m\u001b[43m)\u001b[49m\n\u001b[1;32m      6\u001b[0m path\n",
      "File \u001b[0;32m~/Nutstore Files/高级算法/实验/MyAlgCode/AlgorithmDesignLab/Exp2_AStar.py:182\u001b[0m, in \u001b[0;36mA_Star\u001b[0;34m(graph, start, target, both_direction)\u001b[0m\n\u001b[1;32m    180\u001b[0m cost_now \u001b[38;5;241m=\u001b[39m \u001b[38;5;28mdict\u001b[39m()\n\u001b[1;32m    181\u001b[0m path_from \u001b[38;5;241m=\u001b[39m \u001b[38;5;28mdict\u001b[39m()\n\u001b[0;32m--> 182\u001b[0m \u001b[43mcost_now\u001b[49m\u001b[43m[\u001b[49m\u001b[43mstart\u001b[49m\u001b[43m]\u001b[49m \u001b[38;5;241m=\u001b[39m \u001b[38;5;241m0\u001b[39m\n\u001b[1;32m    183\u001b[0m cost_now\n\u001b[1;32m    184\u001b[0m \u001b[38;5;28;01mwhile\u001b[39;00m \u001b[38;5;129;01mnot\u001b[39;00m pri_que\u001b[38;5;241m.\u001b[39mempty():\n",
      "\u001b[0;31mTypeError\u001b[0m: unhashable type: 'list'"
     ]
    }
   ],
   "source": [
    "from Exp2_AStar import graph1, graph2, A_Star\n",
    "\n",
    "start = [4,9]\n",
    "target = [15, 10]\n",
    "path = A_Star(graph1, start, target)\n",
    "path"
   ]
  },
  {
   "cell_type": "code",
   "execution_count": 52,
   "metadata": {},
   "outputs": [
    {
     "data": {
      "text/plain": [
       "63.62741699796952"
      ]
     },
     "execution_count": 52,
     "metadata": {},
     "output_type": "execute_result"
    }
   ],
   "source": [
    "e = math.sqrt(2)\n",
    "a = 4 * e + 1 + e + 4 + e + 1 + e + 2 * e\n",
    "18.72792206135786 + 44.89949493661166"
   ]
  }
 ],
 "metadata": {
  "kernelspec": {
   "display_name": "darts",
   "language": "python",
   "name": "python3"
  },
  "language_info": {
   "codemirror_mode": {
    "name": "ipython",
    "version": 3
   },
   "file_extension": ".py",
   "mimetype": "text/x-python",
   "name": "python",
   "nbconvert_exporter": "python",
   "pygments_lexer": "ipython3",
   "version": "3.9.12"
  }
 },
 "nbformat": 4,
 "nbformat_minor": 2
}
